{
  "cells": [
    {
      "cell_type": "markdown",
      "metadata": {
        "id": "XPKTqQ3W8qLt"
      },
      "source": [
        "To begin copy this notebook to your own drive:\n",
        "\n",
        "![image.png](data:image/png;base64,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)\n",
        "\n",
        "\n",
        "### Submission Instructions:\n",
        "1. **Restart the kernel** (in the menubar, select Runtime$\\rightarrow$Restart runtime)\n",
        "2. **Run all cells** (in the menubar, select Runtime$\\rightarrow$Run All).\n",
        "3. **Download the notebook** (in the menubar, select File$\\rightarrow$Download .ipynb)\n",
        "4. **Upload the downloaded notebook (.ipynb file) to your repository**.\n",
        "\n",
        "Note: To use a GPU, do the following: Runtime$\\rightarrow$Change runtime type$\\rightarrow$ GPU\n",
        "\n",
        "Make sure you fill in any place that says `YOUR CODE HERE`, and that no tests fail.  "
      ]
    },
    {
      "cell_type": "markdown",
      "metadata": {
        "deletable": false,
        "editable": false,
        "id": "XvPkt7Zm8qLt",
        "nbgrader": {
          "cell_type": "markdown",
          "checksum": "5493400e8b7f9a8e2cde874866d4fa7f",
          "grade": false,
          "grade_id": "cell-3a1bca1dbb7d0069",
          "locked": true,
          "schema_version": 3,
          "solution": false,
          "task": false
        }
      },
      "source": [
        "![shakespeare](https://i.imgur.com/81YZuel.jpg)\n",
        "\n",
        "# Generating Shakespeare Using a Character-level Language Model\n",
        "\n",
        "### From Words to Characters\n",
        "In the previous two sections we dealt with word-level language models. But looking again at section 2, there is nothing that constraints us to using _words_ as the basic elemnents in our model. The model we analyzed in section 2 could just as well be character-based - just replace \"word\" with \"character\", and you are good to go. In this notebook we will train a small character-based language model that will help us generate Shakespearean-like (emphasis on the _like_...) texts."
      ]
    },
    {
      "cell_type": "markdown",
      "metadata": {
        "deletable": false,
        "editable": false,
        "id": "EvGyr_ux8qLt",
        "nbgrader": {
          "cell_type": "markdown",
          "checksum": "9af7a343d0e3524c3fd846d987d766a8",
          "grade": false,
          "grade_id": "cell-7301754e4d655d01",
          "locked": true,
          "schema_version": 3,
          "solution": false,
          "task": false
        }
      },
      "source": [
        "### Question 3.a\n",
        "Can you think of an advantage a character-based language model could have over a word-based language model? And what about the other way around: can you think of an advantage a word-based language model could have over a character-based language model? (Add your answer to the final submission pdf)."
      ]
    },
    {
      "cell_type": "markdown",
      "metadata": {
        "deletable": false,
        "editable": false,
        "id": "ghCevRFf8qLt",
        "nbgrader": {
          "cell_type": "markdown",
          "checksum": "d46a8dfd340b8f68e51a041307f7d7d3",
          "grade": false,
          "grade_id": "cell-ebc0d8ae3061c0fc",
          "locked": true,
          "schema_version": 3,
          "solution": false,
          "task": false
        }
      },
      "source": [
        "### Using PyTorch\n",
        "\n",
        "We'll build our language model using PyTorch. PyTorch is a [very popular](https://thegradient.pub/state-of-ml-frameworks-2019-pytorch-dominates-research-tensorflow-dominates-industry/) open-source machine learning (and deep learning) framework developed by Facebook. In short:\n",
        "\n",
        "> Pytorch is a Python-based scientific computing package targeted at two sets of audiences:\n",
        "* A replacement for NumPy to use the power of GPUs\n",
        "* A deep learning research platform that provides maximum flexibility and speed\n",
        "\n",
        "To get familiar with PyTorch, check out this [quick tutorial](https://pytorch.org/tutorials/beginner/blitz/tensor_tutorial.html). In addition, another imporant difference from numpy is that PyTorch can automatically calculate the gradients needed for backpropagation, as explained [here](https://pytorch.org/tutorials/beginner/blitz/autograd_tutorial.html)."
      ]
    },
    {
      "cell_type": "markdown",
      "metadata": {
        "deletable": false,
        "editable": false,
        "id": "MYd79g6k8qLt",
        "nbgrader": {
          "cell_type": "markdown",
          "checksum": "02af8a21a2e8fae58d84f915de5b016d",
          "grade": false,
          "grade_id": "cell-aa2773db1bef7014",
          "locked": true,
          "schema_version": 3,
          "solution": false,
          "task": false
        }
      },
      "source": [
        "### Preparing the Data\n",
        "\n",
        "Our dataset is a plain text file. For simplicity, we turn any potential unicode characters into plain ASCII by using the `unidecode` package."
      ]
    },
    {
      "cell_type": "code",
      "execution_count": 1,
      "metadata": {
        "colab": {
          "base_uri": "https://localhost:8080/"
        },
        "id": "OT5WdSbsFT1K",
        "outputId": "2af96591-098e-4b39-984a-c5286d3e11d0"
      },
      "outputs": [
        {
          "name": "stdout",
          "output_type": "stream",
          "text": [
            "Collecting unidecode\n",
            "  Downloading Unidecode-1.3.8-py3-none-any.whl.metadata (13 kB)\n",
            "Downloading Unidecode-1.3.8-py3-none-any.whl (235 kB)\n",
            "\u001b[?25l   \u001b[90m━━━━━━━━━━━━━━━━━━━━━━━━━━━━━━━━━━━━━━━━\u001b[0m \u001b[32m0.0/235.5 kB\u001b[0m \u001b[31m?\u001b[0m eta \u001b[36m-:--:--\u001b[0m\r\u001b[2K   \u001b[90m━━━━━━━━━━━━━━━━━━━━━━━━━━━━━━━━━━━━━━━━\u001b[0m \u001b[32m235.5/235.5 kB\u001b[0m \u001b[31m8.3 MB/s\u001b[0m eta \u001b[36m0:00:00\u001b[0m\n",
            "\u001b[?25hInstalling collected packages: unidecode\n",
            "Successfully installed unidecode-1.3.8\n"
          ]
        }
      ],
      "source": [
        "!pip install unidecode"
      ]
    },
    {
      "cell_type": "code",
      "execution_count": 2,
      "metadata": {
        "colab": {
          "base_uri": "https://localhost:8080/"
        },
        "deletable": false,
        "editable": false,
        "id": "RYqFoQgV8qLt",
        "nbgrader": {
          "cell_type": "code",
          "checksum": "ef0359e8c08b2057771c115150011e7e",
          "grade": false,
          "grade_id": "cell-cce75419c097f3fd",
          "locked": true,
          "schema_version": 3,
          "solution": false,
          "task": false
        },
        "outputId": "c79e261f-e98b-4b0e-a5f2-f5d8362b0182",
        "pycharm": {
          "is_executing": false
        }
      },
      "outputs": [
        {
          "name": "stdout",
          "output_type": "stream",
          "text": [
            "Total number of characters in our dataset: 1115394\n"
          ]
        }
      ],
      "source": [
        "import string\n",
        "import random\n",
        "import re\n",
        "import requests\n",
        "import unidecode\n",
        "url = \"https://github.com/tau-nlp-course/NLP_HW2/raw/main/data/shakespeare.txt\"\n",
        "\n",
        "\n",
        "all_characters = string.printable\n",
        "n_characters = len(all_characters)  # our vocabulary size (|V| from the handout)\n",
        "\n",
        "dataset_as_string = unidecode.unidecode(requests.get(url).content.decode())\n",
        "n_chars_in_dataset = len(dataset_as_string)\n",
        "print(f'Total number of characters in our dataset: {n_chars_in_dataset}')"
      ]
    },
    {
      "cell_type": "markdown",
      "metadata": {
        "deletable": false,
        "editable": false,
        "id": "mIctyT3J8qLu",
        "nbgrader": {
          "cell_type": "markdown",
          "checksum": "06dd2ac91a6296206475c7e330e53e3d",
          "grade": false,
          "grade_id": "cell-d795f907dd7922f3",
          "locked": true,
          "schema_version": 3,
          "solution": false,
          "task": false
        }
      },
      "source": [
        "To make inputs out of this big string of text, we will split it into chunks."
      ]
    },
    {
      "cell_type": "code",
      "execution_count": 3,
      "metadata": {
        "colab": {
          "base_uri": "https://localhost:8080/"
        },
        "deletable": false,
        "editable": false,
        "id": "eoLs0ivz8qLu",
        "nbgrader": {
          "cell_type": "code",
          "checksum": "61947ad22fb7f16eba246d47ab8cae22",
          "grade": false,
          "grade_id": "cell-379f229536dae19b",
          "locked": true,
          "schema_version": 3,
          "solution": false,
          "task": false
        },
        "outputId": "e42a2a3a-87a7-4c69-a8db-b4135d416b68",
        "pycharm": {
          "is_executing": false
        }
      },
      "outputs": [
        {
          "name": "stdout",
          "output_type": "stream",
          "text": [
            "ay as I have seen them do\n",
            "In Whitsun pastorals: sure this robe of mine\n",
            "Does change my disposition.\n",
            "\n",
            "FLORIZEL:\n",
            "What you do\n",
            "Still betters what is done. When you speak, sweet.\n",
            "I'ld have you do it ever: when you sing,\n",
            "I'ld have you buy and sell so, so give alms,\n",
            "Pray so; and, for the ordering your affairs,\n",
            "To sing them too: when you do dance, I wish you\n",
            "A wave o' the sea, that you might ever do\n",
            "Nothing\n"
          ]
        }
      ],
      "source": [
        "chunk_len = 400\n",
        "\n",
        "def random_chunk():\n",
        "    start_index = random.randint(0, n_chars_in_dataset - chunk_len)\n",
        "    end_index = start_index + chunk_len + 1\n",
        "    return dataset_as_string[start_index:end_index]\n",
        "\n",
        "print(random_chunk())"
      ]
    },
    {
      "cell_type": "markdown",
      "metadata": {
        "deletable": false,
        "editable": false,
        "id": "ho8WlUcV8qLv",
        "nbgrader": {
          "cell_type": "markdown",
          "checksum": "ba5d4900ff254fa335fe935962878c8d",
          "grade": false,
          "grade_id": "cell-fcbb2d73f4e442fb",
          "locked": true,
          "schema_version": 3,
          "solution": false,
          "task": false
        }
      },
      "source": [
        "### Building Our Model\n",
        "\n",
        "Our model consists of three main components:\n",
        "\n",
        "1. [**Embedding**](https://pytorch.org/docs/stable/nn.html#embedding). A mapping between characters and their learned representations (\"word vectors\") \\[correspoding to ${\\boldsymbol L}$ in terms of the handout\\]\n",
        "2. [**GRU**](https://pytorch.org/docs/stable/nn.html#gru). \\[correspoding to the computation of ${\\boldsymbol h}^{(t)}$ in terms of the handout\\]\n",
        "3. **Output Layer**. A feed-forward neural network that transforms a hidden state at a timestep into a probability distribution of the next character. \\[correspoding to the computation of $\\hat{\\boldsymbol y}^{(t)}$ in terms of the handout\\]"
      ]
    },
    {
      "cell_type": "markdown",
      "metadata": {
        "id": "KFm8g2pd8qLv"
      },
      "source": [
        "### Question 3.b\n",
        "Complete the implementation of the `forward` method of our model."
      ]
    },
    {
      "cell_type": "code",
      "execution_count": 4,
      "metadata": {
        "deletable": false,
        "id": "2SoCQ_ZM8qLv",
        "nbgrader": {
          "cell_type": "code",
          "checksum": "a9ad1239fcd5aec23f439249397895ec",
          "grade": false,
          "grade_id": "cell-1640492438386e87",
          "locked": false,
          "schema_version": 3,
          "solution": true,
          "task": false
        },
        "pycharm": {
          "is_executing": false
        }
      },
      "outputs": [],
      "source": [
        "import torch\n",
        "import torch.nn as nn\n",
        "from torch.autograd import Variable\n",
        "\n",
        "class OurModel(nn.Module):\n",
        "    def __init__(self, input_size, hidden_size, output_size, num_layers=1):\n",
        "        super(OurModel, self).__init__()\n",
        "        self.input_size = input_size\n",
        "        self.hidden_size = hidden_size\n",
        "        self.output_size = output_size\n",
        "        self.num_layers = num_layers\n",
        "\n",
        "        self.embedding = nn.Embedding(input_size, hidden_size)  # In the terms of the handout, here d = D_h\n",
        "        self.gru = nn.GRU(hidden_size, hidden_size, num_layers)\n",
        "        self.output_layer = nn.Linear(hidden_size, output_size)\n",
        "\n",
        "    def forward(self, input_, hidden):\n",
        "        # General instructions:\n",
        "        # Pass the embedded input through the GRU and use the output layer to get the next character distribution.\n",
        "        # return that distribution and the next hidden state.\n",
        "        # You may need to play around with the dimensions a bit until you get it right. Dimension-induced frustration is good for you!\n",
        "        # -------------------------\n",
        "        embedded = self.embedding(input_)\n",
        "        embedded = embedded.view(1, 1, -1)\n",
        "        output, hidden = self.gru(embedded, hidden)\n",
        "        output = self.output_layer(output.view(1, -1))\n",
        "        # -------------------------\n",
        "        return output, hidden\n",
        "\n",
        "    def init_hidden(self):\n",
        "        return Variable(torch.zeros(self.num_layers, 1, self.hidden_size))"
      ]
    },
    {
      "cell_type": "markdown",
      "metadata": {
        "deletable": false,
        "editable": false,
        "id": "aZWMbY1o8qLv",
        "nbgrader": {
          "cell_type": "markdown",
          "checksum": "da793a49917dc4882e7e70f04d07a777",
          "grade": false,
          "grade_id": "cell-b9299fddeb082b4e",
          "locked": true,
          "schema_version": 3,
          "solution": false,
          "task": false
        }
      },
      "source": [
        "### Creating the Training Examples"
      ]
    },
    {
      "cell_type": "markdown",
      "metadata": {
        "deletable": false,
        "editable": false,
        "id": "B-ngTV6Q8qLv",
        "nbgrader": {
          "cell_type": "markdown",
          "checksum": "f6eaeb80c370b32f26eda2ac1be57444",
          "grade": false,
          "grade_id": "cell-83bf9e1b0374206c",
          "locked": true,
          "schema_version": 3,
          "solution": false,
          "task": false
        }
      },
      "source": [
        "Each chunk will be turned into a tensor by looping through the characters of the string and looking up the index of each character in `all_characters`."
      ]
    },
    {
      "cell_type": "code",
      "execution_count": 5,
      "metadata": {
        "colab": {
          "base_uri": "https://localhost:8080/"
        },
        "deletable": false,
        "editable": false,
        "id": "98wyNtkw8qLv",
        "nbgrader": {
          "cell_type": "code",
          "checksum": "cc87bca342db2fde1b3957f48bcfe857",
          "grade": false,
          "grade_id": "cell-5360afdd0b03b1f4",
          "locked": true,
          "schema_version": 3,
          "solution": false,
          "task": false
        },
        "outputId": "c7f2994f-25ce-4c42-dfae-ba2b1dd678be",
        "pycharm": {
          "is_executing": false
        }
      },
      "outputs": [
        {
          "name": "stdout",
          "output_type": "stream",
          "text": [
            "tensor([10, 11, 12, 39, 40, 41])\n"
          ]
        }
      ],
      "source": [
        "# Turn a string into list of longs\n",
        "def chars_to_tensor(string):\n",
        "    tensor = torch.zeros(len(string)).long()\n",
        "    for c in range(len(string)):\n",
        "        tensor[c] = all_characters.index(string[c])\n",
        "    return Variable(tensor)\n",
        "\n",
        "print(chars_to_tensor('abcDEF'))"
      ]
    },
    {
      "cell_type": "markdown",
      "metadata": {
        "deletable": false,
        "editable": false,
        "id": "cYh_R1K88qLv",
        "nbgrader": {
          "cell_type": "markdown",
          "checksum": "f7fab2aa0d22a697fcc3d675b1821875",
          "grade": false,
          "grade_id": "cell-6e7b3d9e8c9396bb",
          "locked": true,
          "schema_version": 3,
          "solution": false,
          "task": false
        }
      },
      "source": [
        "Now we can assemble a pair of input and target tensors (i.e. a single training example) for training, from a random chunk. The input will be all characters *except the last*, and the target will be all characters *except the first*. So if our chunk is \"abc\" the input will correspond to \"ab\" while the target is \"bc\"."
      ]
    },
    {
      "cell_type": "code",
      "execution_count": 6,
      "metadata": {
        "deletable": false,
        "editable": false,
        "id": "QFDYhW3a8qLv",
        "nbgrader": {
          "cell_type": "code",
          "checksum": "adf90d7ec6728b2f45d1e8de5c47203c",
          "grade": false,
          "grade_id": "cell-d3539c5f1d96a188",
          "locked": true,
          "schema_version": 3,
          "solution": false,
          "task": false
        },
        "pycharm": {
          "is_executing": false
        }
      },
      "outputs": [],
      "source": [
        "def random_training_set():\n",
        "    chunk = random_chunk()\n",
        "    inp = chars_to_tensor(chunk[:-1])\n",
        "    target = chars_to_tensor(chunk[1:])\n",
        "    return inp, target"
      ]
    },
    {
      "cell_type": "markdown",
      "metadata": {
        "deletable": false,
        "editable": false,
        "id": "eU6VTX8F8qLv",
        "nbgrader": {
          "cell_type": "markdown",
          "checksum": "18a6bf800d9bc590739b15ba01dda408",
          "grade": false,
          "grade_id": "cell-16d13f3b273395ac",
          "locked": true,
          "schema_version": 3,
          "solution": false,
          "task": false
        }
      },
      "source": [
        "### Evaluating\n",
        "\n",
        "To evaluate the network we will feed one character at a time, use the outputs of the network as a probability distribution for the next character, and repeat. To start generation we pass a priming string to start building up the hidden state, from which we then generate one character at a time."
      ]
    },
    {
      "cell_type": "code",
      "execution_count": 7,
      "metadata": {
        "deletable": false,
        "editable": false,
        "id": "xeoACNc78qLv",
        "nbgrader": {
          "cell_type": "code",
          "checksum": "a47c721a818979b886f119401206e756",
          "grade": false,
          "grade_id": "cell-44ab27a8fee696ad",
          "locked": true,
          "schema_version": 3,
          "solution": false,
          "task": false
        },
        "pycharm": {
          "is_executing": false
        }
      },
      "outputs": [],
      "source": [
        "import torch.nn.functional as F\n",
        "\n",
        "def evaluate(prime_str='A', predict_len=100, temperature=0.8):\n",
        "    hidden = model.init_hidden()\n",
        "    prime_input = chars_to_tensor(prime_str)\n",
        "    predicted = prime_str\n",
        "\n",
        "    # Use priming string to \"build up\" hidden state\n",
        "    for p in range(len(prime_str) - 1):\n",
        "        _, hidden = model(prime_input[p], hidden)\n",
        "    inp = prime_input[-1]\n",
        "\n",
        "    for p in range(predict_len):\n",
        "        output, hidden = model(inp, hidden)\n",
        "\n",
        "        # Sample from the network as a multinomial distribution\n",
        "        output_dist =  F.softmax(output / temperature, dim=-1)\n",
        "        top_i = torch.multinomial(output_dist, 1)[0]\n",
        "\n",
        "        # Add predicted character to string and use as next input\n",
        "        predicted_char = all_characters[top_i]\n",
        "        predicted += predicted_char\n",
        "        inp = chars_to_tensor(predicted_char)\n",
        "\n",
        "    return predicted"
      ]
    },
    {
      "cell_type": "markdown",
      "metadata": {
        "deletable": false,
        "editable": false,
        "id": "iNmsUvyM8qLv",
        "nbgrader": {
          "cell_type": "markdown",
          "checksum": "3fffa10554299eaae14cc007fea3935a",
          "grade": false,
          "grade_id": "cell-1d3fd015fe8f64d1",
          "locked": true,
          "schema_version": 3,
          "solution": false,
          "task": false
        }
      },
      "source": [
        "### Training"
      ]
    },
    {
      "cell_type": "markdown",
      "metadata": {
        "deletable": false,
        "editable": false,
        "id": "AiCVg5Ec8qLv",
        "nbgrader": {
          "cell_type": "markdown",
          "checksum": "8a98218b35f47137eeba1ba1aead0700",
          "grade": false,
          "grade_id": "cell-a209b293a8850a57",
          "locked": true,
          "schema_version": 3,
          "solution": false,
          "task": false
        }
      },
      "source": [
        "The main training function"
      ]
    },
    {
      "cell_type": "code",
      "execution_count": 8,
      "metadata": {
        "deletable": false,
        "editable": false,
        "id": "Wug0q2Me8qLv",
        "nbgrader": {
          "cell_type": "code",
          "checksum": "eb3bfcd4d49b2f2672447d8c65b6cb05",
          "grade": false,
          "grade_id": "cell-e246cbd9689e1a6d",
          "locked": true,
          "schema_version": 3,
          "solution": false,
          "task": false
        },
        "pycharm": {
          "is_executing": false
        }
      },
      "outputs": [],
      "source": [
        "def train(inp, target):\n",
        "    hidden = model.init_hidden()\n",
        "    model.zero_grad()\n",
        "    loss = 0\n",
        "\n",
        "    for c in range(chunk_len):\n",
        "        output, hidden = model(inp[c], hidden)\n",
        "        loss += criterion(output, target[c].view(-1))\n",
        "\n",
        "    loss.backward()\n",
        "    optimizer.step()\n",
        "\n",
        "    return loss.item() / chunk_len"
      ]
    },
    {
      "cell_type": "markdown",
      "metadata": {
        "deletable": false,
        "editable": false,
        "id": "hFBSiQqS8qLv",
        "nbgrader": {
          "cell_type": "markdown",
          "checksum": "bfb863e279db4b170c35d8d0c7a37a1f",
          "grade": false,
          "grade_id": "cell-05ce9b9275e0d1cc",
          "locked": true,
          "schema_version": 3,
          "solution": false,
          "task": false
        }
      },
      "source": [
        "A helper to print the amount of time passed:"
      ]
    },
    {
      "cell_type": "code",
      "execution_count": 9,
      "metadata": {
        "deletable": false,
        "editable": false,
        "id": "vIzUAL-a8qLv",
        "nbgrader": {
          "cell_type": "code",
          "checksum": "16d7b53f211a6a1bef71c1dd2d1271cf",
          "grade": false,
          "grade_id": "cell-cb78afef7022f9a1",
          "locked": true,
          "schema_version": 3,
          "solution": false,
          "task": false
        },
        "pycharm": {
          "is_executing": false
        }
      },
      "outputs": [],
      "source": [
        "import time, math\n",
        "\n",
        "def time_since(since):\n",
        "    s = time.time() - since\n",
        "    m = math.floor(s / 60)\n",
        "    s -= m * 60\n",
        "    return f'{m}m {math.floor(s)}s'"
      ]
    },
    {
      "cell_type": "code",
      "execution_count": 10,
      "metadata": {
        "deletable": false,
        "editable": false,
        "id": "pAlXhasn8qLv",
        "nbgrader": {
          "cell_type": "code",
          "checksum": "2b368f1767ddd0eddca44249fa47ed32",
          "grade": true,
          "grade_id": "cell-98f46bec0b8c87cc",
          "locked": true,
          "points": 10,
          "schema_version": 3,
          "solution": false,
          "task": false
        }
      },
      "outputs": [],
      "source": [
        "# DO NOT DELETE THIS CELL\n"
      ]
    },
    {
      "cell_type": "markdown",
      "metadata": {
        "deletable": false,
        "editable": false,
        "id": "0Xva5o5I8qLv",
        "nbgrader": {
          "cell_type": "markdown",
          "checksum": "98abd7dd7805753c2e7b635f1265cb73",
          "grade": false,
          "grade_id": "cell-baf25642209867dc",
          "locked": true,
          "schema_version": 3,
          "solution": false,
          "task": false
        }
      },
      "source": [
        "Define the training parameters, instantiate the model, and start training:"
      ]
    },
    {
      "cell_type": "code",
      "execution_count": 11,
      "metadata": {
        "colab": {
          "base_uri": "https://localhost:8080/"
        },
        "deletable": false,
        "editable": false,
        "id": "pRLHP-UQ8qLw",
        "nbgrader": {
          "cell_type": "code",
          "checksum": "ab44452ad9f838e0b56e1fc154ab6125",
          "grade": false,
          "grade_id": "cell-4900f92ae503be69",
          "locked": true,
          "schema_version": 3,
          "solution": false,
          "task": false
        },
        "outputId": "e5289f19-be7c-4c4a-d966-c758a5190a8f",
        "pycharm": {
          "is_executing": false
        }
      },
      "outputs": [
        {
          "name": "stdout",
          "output_type": "stream",
          "text": [
            "[time elapsed: 0m 35s  ;  epochs: 100 (5.0%)  ;  loss: 2.109]\n",
            "Where mom cestart your fand jfaresthe uce, boun: woure ha he what ke wores sor thout that and w+ousein sean de hay sand\n",
            "How enere wod ous whoud.\n",
            "\n",
            "MELOL:\n",
            "An:\n",
            "Day are searthatel. home the ofd,;\n",
            "Shks ssrat \n",
            "\n",
            "[time elapsed: 1m 12s  ;  epochs: 200 (10.0%)  ;  loss: 2.112]\n",
            "Wheard's, as geard?\n",
            "What the as list droth with so loveiry\n",
            "As and porsreall side.\n",
            "\n",
            "TARSCUS:\n",
            "\n",
            "SIO:\n",
            "To will not thas, Wughat the the the in: surmell-not lite heart geand be alink it, is lall dhor of buce, \n",
            "\n",
            "[time elapsed: 1m 47s  ;  epochs: 300 (15.0%)  ;  loss: 1.853]\n",
            "Whall word.\n",
            "\n",
            "HOLIO:\n",
            "Fare of me Gut then make then deaed you live\n",
            "Is neaves\n",
            "Whas with beat shavep, he bearwow's for the love shorr.\n",
            "\n",
            "VINGA:\n",
            "In of shall kend--ar up my then will sever, bew blas linester:\n",
            " \n",
            "\n",
            "[time elapsed: 2m 22s  ;  epochs: 400 (20.0%)  ;  loss: 1.856]\n",
            "Whe with you wlear,\n",
            "There in For my me fonsel:\n",
            "And thy stare\n",
            "My for the fachour the me Roman of fure. Thou preas death the welight upon to wis our the creat is hath horte,\n",
            "And 'And was that to puch thic \n",
            "\n",
            "[time elapsed: 2m 57s  ;  epochs: 500 (25.0%)  ;  loss: 2.019]\n",
            "Whincest So manged? in this undech this writter, her out restay.\n",
            "\n",
            "ISARELLO:\n",
            "TR\n",
            "The dine the our grives what let of the coress antack to her not mistle stich nettinined me hath makem manged greath it in  \n",
            "\n",
            "[time elapsed: 3m 33s  ;  epochs: 600 (30.0%)  ;  loss: 1.825]\n",
            "Why many of you arwit; a ronge my speall.\n",
            "\n",
            "PETRUCHIO:\n",
            "Me in my bancand are diding Rrom after and and werdons,\n",
            "Thing as ye with me'ken, ambons, but roumings and mady our lasts armanst it beford Must good \n",
            "\n",
            "[time elapsed: 4m 7s  ;  epochs: 700 (35.0%)  ;  loss: 1.951]\n",
            "Whand the loes, at the grace deatherelf\n",
            "urceads the here grackereree.\n",
            "\n",
            "VING LINGHARG RIA:\n",
            "I chisse so then come?\n",
            "\n",
            "\n",
            "VINGHAS:\n",
            "When the sain of wit youl, aft with of lording.\n",
            "\n",
            "GLOMENCE:\n",
            "He sate do our vigh \n",
            "\n",
            "[time elapsed: 4m 42s  ;  epochs: 800 (40.0%)  ;  loss: 1.834]\n",
            "Where in the sais must which his the his-\n",
            "Thir ding const for eal,\n",
            "Give your rome here to seenger's my\n",
            "And dessell shere all not and man mishees offly some moke:\n",
            "With shall and you mone the seent ding,\n",
            " \n",
            "\n",
            "[time elapsed: 5m 18s  ;  epochs: 900 (45.0%)  ;  loss: 1.817]\n",
            "Whas so the viring such if?\n",
            "Should that bast thou do lave one deeps Jut song my lain her,\n",
            "Whis we thou wall me, light you. Do leth near.\n",
            "\n",
            "SOMER:\n",
            "By veissise my shall and moind bariand,\n",
            "And is the quear  \n",
            "\n",
            "[time elapsed: 5m 54s  ;  epochs: 1000 (50.0%)  ;  loss: 1.807]\n",
            "Whant hath hands of me doth my countor you mance me have your do thine,\n",
            "Give stands papt voice my costity yough that\n",
            "He bortung but forter make the of that\n",
            "That conn me wong my condies the detruct wooke \n",
            "\n",
            "[time elapsed: 6m 29s  ;  epochs: 1100 (55.00000000000001%)  ;  loss: 1.623]\n",
            "Wherefore andss.\n",
            "\n",
            "ISABELLA:\n",
            "The come then my sires, as turn?\n",
            "Manids have lifow, senderes, now to in would though hore here. But and forgues.\n",
            "\n",
            "FICHGARD:\n",
            "And a care speak, it with us, and likes stentent\n",
            "d \n",
            "\n",
            "[time elapsed: 7m 3s  ;  epochs: 1200 (60.0%)  ;  loss: 1.802]\n",
            "Whour how, you wold. Whow, which themeer?\n",
            "\n",
            "DUKE VINCENTIO:\n",
            "Than here man there trubled and stra.\n",
            "\n",
            "PRINCENTIO:\n",
            "I worsh and dis! whith incutiont, alt what and sol:\n",
            "Who, arick not my sing courted, and whil \n",
            "\n",
            "[time elapsed: 7m 38s  ;  epochs: 1300 (65.0%)  ;  loss: 1.807]\n",
            "Why me, her you and any tell mude I his cot forman not though they\n",
            "is that good this Lord that the cunay,\n",
            "We I have to the here, white my loke with life?\n",
            "What sich not bory to this and with comest.\n",
            "\n",
            "Ser \n",
            "\n",
            "[time elapsed: 8m 13s  ;  epochs: 1400 (70.0%)  ;  loss: 1.919]\n",
            "Whees, I have with you the palltine?\n",
            "My castier.\n",
            "Thy chady the hears peered you a\n",
            "created not sold.\n",
            "\n",
            "GREMIO:\n",
            "I my call I lecound.\n",
            "Whit truble my ladger, your vould now main;\n",
            "And chall I king fainted.\n",
            "\n",
            "I \n",
            "\n",
            "[time elapsed: 8m 48s  ;  epochs: 1500 (75.0%)  ;  loss: 1.64]\n",
            "Wher here man an of yourselpost lips live\n",
            "Smackail enter the more in you constant alsicked this do.\n",
            "\n",
            "GLOUCESTER:\n",
            "But you uncome my lord and and is\n",
            "Come firse an him, dead laver's all of his see he.\n",
            "\n",
            "POL \n",
            "\n",
            "[time elapsed: 9m 23s  ;  epochs: 1600 (80.0%)  ;  loss: 1.905]\n",
            "Whing! Make my love,\n",
            "Fare lips grameness of the hange, and forth us foul whip\n",
            "is but see with visce he from of you well\n",
            "My sould too sight cell cannot in the pringer'd how and thind as lose with I will  \n",
            "\n",
            "[time elapsed: 9m 58s  ;  epochs: 1700 (85.0%)  ;  loss: 1.617]\n",
            "Why, leath,\n",
            "We'll had let, sick, be, get co there, shele extrest then rethour 'tis:\n",
            "You that he such come's and and the prome stread;\n",
            "And me theire, for he sreave away glastaly fame,\n",
            "If you dewAld shall \n",
            "\n",
            "[time elapsed: 10m 33s  ;  epochs: 1800 (90.0%)  ;  loss: 1.614]\n",
            "Why, I claity my well\n",
            "That an your my trems, not he,\n",
            "But fear in my not onger he had evils eyes sone\n",
            "Than the queed not in the flant nother not, seet wand,\n",
            "'Nt speak my but of her duts as I chares,\n",
            "And  \n",
            "\n",
            "[time elapsed: 11m 8s  ;  epochs: 1900 (95.0%)  ;  loss: 1.683]\n",
            "Whing of then:\n",
            "But in the with other ager my a gentlain;\n",
            "And amant, ampring rewit do and fishide may him dide fage did;\n",
            "Startuest his dead I dide fallous is is thall backs,\n",
            "And go coduins that is King t \n",
            "\n",
            "[time elapsed: 11m 42s  ;  epochs: 2000 (100.0%)  ;  loss: 1.574]\n",
            "Whall ther pirst, 'tis poor is ager with the two my loth is;\n",
            "If a my shall-fill, say moony so my say here the it fore.\n",
            "\n",
            "Second Sall: take suncher, tear be diserder.\n",
            "\n",
            "LUCIO:\n",
            "The gain is all. Alamed our d \n",
            "\n"
          ]
        }
      ],
      "source": [
        "n_epochs = 2000\n",
        "print_every = 100\n",
        "plot_every = 10\n",
        "hidden_size = 100  # (D_h from the handout)\n",
        "num_layers = 1\n",
        "lr = 0.005\n",
        "\n",
        "model = OurModel(n_characters, hidden_size, n_characters, num_layers)\n",
        "optimizer = torch.optim.Adam(model.parameters(), lr=lr)\n",
        "criterion = nn.CrossEntropyLoss()\n",
        "\n",
        "start = time.time()\n",
        "all_losses = []\n",
        "loss_avg = 0\n",
        "\n",
        "for epoch in range(1, n_epochs + 1):\n",
        "    loss = train(*random_training_set())\n",
        "    loss_avg += loss\n",
        "\n",
        "    if epoch % print_every == 0:\n",
        "        print(f'[time elapsed: {time_since(start)}  ;  epochs: {epoch} ({epoch / n_epochs * 100}%)  ;  loss: {loss:.4}]')\n",
        "        print(evaluate('Wh', 200), '\\n')  # generate text starting with 'Wh'\n",
        "\n",
        "    if epoch % plot_every == 0:\n",
        "        all_losses.append(loss_avg / plot_every)\n",
        "        loss_avg = 0"
      ]
    },
    {
      "cell_type": "markdown",
      "metadata": {
        "deletable": false,
        "editable": false,
        "id": "dXeVkk298qLw",
        "nbgrader": {
          "cell_type": "markdown",
          "checksum": "8584d3be75d90a5197e7133411e0021d",
          "grade": false,
          "grade_id": "cell-ff9d72dafefa0a23",
          "locked": true,
          "schema_version": 3,
          "solution": false,
          "task": false
        }
      },
      "source": [
        "### Training Loss\n",
        "\n",
        "Plotting the the losses that were computed during training can provide a further indication that the network was indeed learning (Add your plot to the final submission pdf)."
      ]
    },
    {
      "cell_type": "code",
      "execution_count": 12,
      "metadata": {
        "colab": {
          "base_uri": "https://localhost:8080/",
          "height": 467
        },
        "deletable": false,
        "editable": false,
        "id": "S2SZanbV8qLw",
        "nbgrader": {
          "cell_type": "code",
          "checksum": "357a8a13a77f5e3b3e336e022dc596d4",
          "grade": false,
          "grade_id": "cell-f91bb597844b8f7d",
          "locked": true,
          "schema_version": 3,
          "solution": false,
          "task": false
        },
        "outputId": "74ac934c-c799-47f1-80f3-4dccd9d32efd",
        "pycharm": {
          "is_executing": false
        }
      },
      "outputs": [
        {
          "data": {
            "text/plain": [
              "[<matplotlib.lines.Line2D at 0x7bd879745810>]"
            ]
          },
          "execution_count": 12,
          "metadata": {},
          "output_type": "execute_result"
        },
        {
          "data": {
            "image/png": "[encoded data removed]",
            "text/plain": [
              "<Figure size 640x480 with 1 Axes>"
            ]
          },
          "metadata": {},
          "output_type": "display_data"
        }
      ],
      "source": [
        "import matplotlib.pyplot as plt\n",
        "%matplotlib inline\n",
        "\n",
        "plt.grid(True)\n",
        "plt.xlabel('# of epochs (divided by plot_every)')\n",
        "plt.ylabel('average loss')\n",
        "plt.plot(all_losses)"
      ]
    },
    {
      "cell_type": "markdown",
      "metadata": {
        "id": "CV8Y7mUlmSSI"
      },
      "source": [
        "Q3"
      ]
    },
    {
      "cell_type": "code",
      "execution_count": 13,
      "metadata": {
        "colab": {
          "base_uri": "https://localhost:8080/"
        },
        "id": "7YrG8uoFmVFm",
        "outputId": "68e8b15b-c7d5-4639-8282-8e612707b3dc"
      },
      "outputs": [
        {
          "name": "stdout",
          "output_type": "stream",
          "text": [
            "Perplexity of shakespeare_for_perplexity.txt: 7.1626771592940575\n",
            "Perplexity of wikipedia_for_perplexity.txt: 18.425545474390916\n",
            "Perplexity of preprocessed shakespeare_for_perplexity.txt: 7.9803277217625475\n",
            "Perplexity of preprocessed wikipedia_for_perplexity.txt: 15.31237554767049\n"
          ]
        }
      ],
      "source": [
        "import numpy as np\n",
        "import unidecode\n",
        "import re\n",
        "\n",
        "\n",
        "def perplexity(text_file):\n",
        "    with open(text_file, \"r\") as file:\n",
        "        text = unidecode.unidecode(file.read())\n",
        "    temperature = 0.8\n",
        "    total_log_probability = 0\n",
        "    hidden = model.init_hidden()\n",
        "    for i in range(len(text) - 1):\n",
        "        try:\n",
        "            current_char_tensor = chars_to_tensor(text[i])\n",
        "            output, hidden = model(current_char_tensor, hidden)\n",
        "            output = output / temperature\n",
        "            probabilities = torch.softmax(output, dim=-1)\n",
        "\n",
        "            next_char_index = all_characters.index(text[i + 1])\n",
        "            next_char_probability = probabilities[0][next_char_index].item()\n",
        "\n",
        "            total_log_probability += np.log2(next_char_probability)\n",
        "\n",
        "        except Exception as e:\n",
        "            print(f\"Error processing character at position {i}: {e}\")\n",
        "            continue\n",
        "    avg_log_probability = total_log_probability / len(text)\n",
        "    perplexity = 2 ** (-1 * avg_log_probability)\n",
        "    return perplexity\n",
        "\n",
        "def perplexity_with_preprocessing(text_file):\n",
        "    # The preprocessing removes punctuations from the text, leaving only alphanumeric characters and whitespace, makes the text lower case to make it case-insensitive\n",
        "    with open(text_file, \"r\", encoding=\"utf-8\") as file:\n",
        "        text = unidecode.unidecode(file.read())\n",
        "\n",
        "    text = re.sub(r\"[^\\w\\s]\", \"\", text).lower()\n",
        "\n",
        "    temperature = 0.8\n",
        "    total_log_probability = 0\n",
        "    hidden = model.init_hidden()\n",
        "    for i in range(len(text) - 1):\n",
        "        try:\n",
        "            current_char_tensor = chars_to_tensor(text[i])\n",
        "            output, hidden = model(current_char_tensor, hidden)\n",
        "            output = output / temperature\n",
        "            probabilities = torch.softmax(output, dim=-1)\n",
        "\n",
        "            next_char_index = all_characters.index(text[i + 1])\n",
        "            next_char_probability = probabilities[0][next_char_index].item()\n",
        "\n",
        "            total_log_probability += np.log2(next_char_probability)\n",
        "\n",
        "        except Exception as e:\n",
        "            print(f\"Error processing character at position {i}: {e}\")\n",
        "            continue\n",
        "    avg_log_probability = total_log_probability / len(text)\n",
        "    perplexity = 2 ** (-1 * avg_log_probability)\n",
        "    return perplexity\n",
        "\n",
        "\n",
        "if __name__ == \"__main__\":\n",
        "    print(\n",
        "        \"Perplexity of shakespeare_for_perplexity.txt: \"\n",
        "        + str(perplexity(\"shakespeare_for_perplexity.txt\"))\n",
        "    )\n",
        "    print(\n",
        "        \"Perplexity of wikipedia_for_perplexity.txt: \"\n",
        "        + str(perplexity(\"wikipedia_for_perplexity.txt\"))\n",
        "    )\n",
        "\n",
        "    print(\n",
        "        \"Perplexity of preprocessed shakespeare_for_perplexity.txt: \"\n",
        "        + str(perplexity_with_preprocessing(\"shakespeare_for_perplexity.txt\"))\n",
        "    )\n",
        "    print(\n",
        "        \"Perplexity of preprocessed wikipedia_for_perplexity.txt: \"\n",
        "        + str(perplexity_with_preprocessing(\"wikipedia_for_perplexity.txt\"))\n",
        "    )\n"
      ]
    }
  ],
  "metadata": {
    "accelerator": "GPU",
    "anaconda-cloud": {},
    "colab": {
      "gpuType": "T4",
      "provenance": []
    },
    "kernelspec": {
      "display_name": "Python 3",
      "name": "python3"
    },
    "language_info": {
      "codemirror_mode": {
        "name": "ipython",
        "version": 3
      },
      "file_extension": ".py",
      "mimetype": "text/x-python",
      "name": "python",
      "nbconvert_exporter": "python",
      "pygments_lexer": "ipython3",
      "version": "3.8.0"
    },
    "pycharm": {
      "stem_cell": {
        "cell_type": "raw",
        "metadata": {
          "collapsed": false
        },
        "source": []
      }
    }
  },
  "nbformat": 4,
  "nbformat_minor": 0
}
